{
 "cells": [
  {
   "cell_type": "markdown",
   "id": "900bc431-8bee-4251-a4f3-fc09dfea1621",
   "metadata": {},
   "source": [
    "# Data Science Tools and Ecosystem"
   ]
  },
  {
   "cell_type": "markdown",
   "id": "d81c7e01-0943-4dd8-8f65-e53e974def58",
   "metadata": {},
   "source": [
    "Some of the popular languages that Data Scientists use are:\n",
    "1. Python\n",
    "2. R\n",
    "3. Scala\n",
    "4. Julia"
   ]
  },
  {
   "cell_type": "markdown",
   "id": "25ab144b-5977-4f65-96b9-bc3312080865",
   "metadata": {},
   "source": [
    "In this notebook, Data Science Tools and Ecosystem are summarized."
   ]
  },
  {
   "cell_type": "markdown",
   "id": "096ca411-4aca-46ef-b9e2-6a4da1d3ab17",
   "metadata": {},
   "source": [
    "Objectives:\n",
    "- Some of the commonly used libraries used by Data Scientists\n",
    "- Data Science Tools\n",
    "- Arithmetic expressions in Python"
   ]
  },
  {
   "cell_type": "markdown",
   "id": "dc949198-71cb-4354-ab8b-efc76d0d117c",
   "metadata": {},
   "source": [
    "Some of the commonly used libraries used by Data Scientists include:\n",
    "1. Scikit-learn\n",
    "2. Keras\n",
    "3. PyTorch\n",
    "4. Pandas\n",
    "5. Matplotlib\n",
    "6. Searborn\n",
    "7. PowerBI"
   ]
  },
  {
   "cell_type": "markdown",
   "id": "6ec0ccb0-759f-4649-8572-bdbbf7f611bc",
   "metadata": {},
   "source": [
    "|Data Science Tools|\n",
    "------------------\n",
    "|Jupyter Notebook|\n",
    "|Jupyter Lab|\n",
    "|GitHub|"
   ]
  },
  {
   "cell_type": "markdown",
   "id": "cb74f9a0-41b4-4f72-b535-6999acb7fe01",
   "metadata": {},
   "source": [
    "### Below are a few examples of evaluating arithmetic expressions in Python"
   ]
  },
  {
   "cell_type": "code",
   "execution_count": 1,
   "id": "0a382639-667d-427f-8ad4-e28b406b8d6a",
   "metadata": {
    "tags": []
   },
   "outputs": [
    {
     "data": {
      "text/plain": [
       "17"
      ]
     },
     "execution_count": 1,
     "metadata": {},
     "output_type": "execute_result"
    }
   ],
   "source": [
    "# This a simple arithmetic expression to mutiply then add integers\n",
    "(3*4)+5"
   ]
  },
  {
   "cell_type": "code",
   "execution_count": 2,
   "id": "c292efaa-5c4e-40c4-b883-097fdda7b442",
   "metadata": {
    "tags": []
   },
   "outputs": [
    {
     "data": {
      "text/plain": [
       "3.3333333333333335"
      ]
     },
     "execution_count": 2,
     "metadata": {},
     "output_type": "execute_result"
    }
   ],
   "source": [
    "# This will convert 200 minutes to hours by diving by 60\n",
    "200 / 60"
   ]
  },
  {
   "cell_type": "markdown",
   "id": "4edb4707-2f43-414f-a2fc-d30c15b97655",
   "metadata": {},
   "source": [
    "## Author\n",
    "Majadibodu Obed"
   ]
  },
  {
   "cell_type": "code",
   "execution_count": null,
   "id": "0c2e2873-f72d-4841-97db-75e6ca9797c5",
   "metadata": {},
   "outputs": [],
   "source": []
  }
 ],
 "metadata": {
  "kernelspec": {
   "display_name": "Python",
   "language": "python",
   "name": "conda-env-python-py"
  },
  "language_info": {
   "codemirror_mode": {
    "name": "ipython",
    "version": 3
   },
   "file_extension": ".py",
   "mimetype": "text/x-python",
   "name": "python",
   "nbconvert_exporter": "python",
   "pygments_lexer": "ipython3",
   "version": "3.7.12"
  }
 },
 "nbformat": 4,
 "nbformat_minor": 5
}
